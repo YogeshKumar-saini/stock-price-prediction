{
 "cells": [
  {
   "cell_type": "code",
   "execution_count": null,
   "id": "39a61c19",
   "metadata": {},
   "outputs": [],
   "source": [
    "import pandas as pd\n",
    "import numpy as np"
   ]
  },
  {
   "cell_type": "code",
   "execution_count": 46,
   "id": "86875ce8",
   "metadata": {},
   "outputs": [
    {
     "data": {
      "application/vnd.microsoft.datawrangler.viewer.v0+json": {
       "columns": [
        {
         "name": "index",
         "rawType": "int64",
         "type": "integer"
        },
        {
         "name": "Date",
         "rawType": "object",
         "type": "string"
        },
        {
         "name": "Open",
         "rawType": "float64",
         "type": "float"
        },
        {
         "name": "High",
         "rawType": "float64",
         "type": "float"
        },
        {
         "name": "Low",
         "rawType": "float64",
         "type": "float"
        },
        {
         "name": "Close",
         "rawType": "float64",
         "type": "float"
        },
        {
         "name": "Volume",
         "rawType": "int64",
         "type": "integer"
        },
        {
         "name": "Stock Splits",
         "rawType": "float64",
         "type": "float"
        }
       ],
       "ref": "4323668a-4a19-45e2-8376-d76436120afa",
       "rows": [
        [
         "0",
         "1997-05-15 04:00:00+00:00",
         "0.1218750029802322",
         "0.125",
         "0.0963540002703666",
         "0.0979169979691505",
         "1443120000",
         "0.0"
        ],
        [
         "1",
         "1997-05-16 04:00:00+00:00",
         "0.0984380021691322",
         "0.0989580005407333",
         "0.0854170024394989",
         "0.0864579975605011",
         "294000000",
         "0.0"
        ],
        [
         "2",
         "1997-05-19 04:00:00+00:00",
         "0.0880210027098655",
         "0.0885419994592666",
         "0.0812499970197677",
         "0.0854170024394989",
         "122136000",
         "0.0"
        ],
        [
         "3",
         "1997-05-20 04:00:00+00:00",
         "0.0864579975605011",
         "0.0874999985098838",
         "0.0817710012197494",
         "0.0817710012197494",
         "109344000",
         "0.0"
        ],
        [
         "4",
         "1997-05-21 04:00:00+00:00",
         "0.0817710012197494",
         "0.0822919979691505",
         "0.0687500014901161",
         "0.0713540017604827",
         "377064000",
         "0.0"
        ]
       ],
       "shape": {
        "columns": 7,
        "rows": 5
       }
      },
      "text/html": [
       "<div>\n",
       "<style scoped>\n",
       "    .dataframe tbody tr th:only-of-type {\n",
       "        vertical-align: middle;\n",
       "    }\n",
       "\n",
       "    .dataframe tbody tr th {\n",
       "        vertical-align: top;\n",
       "    }\n",
       "\n",
       "    .dataframe thead th {\n",
       "        text-align: right;\n",
       "    }\n",
       "</style>\n",
       "<table border=\"1\" class=\"dataframe\">\n",
       "  <thead>\n",
       "    <tr style=\"text-align: right;\">\n",
       "      <th></th>\n",
       "      <th>Date</th>\n",
       "      <th>Open</th>\n",
       "      <th>High</th>\n",
       "      <th>Low</th>\n",
       "      <th>Close</th>\n",
       "      <th>Volume</th>\n",
       "      <th>Stock Splits</th>\n",
       "    </tr>\n",
       "  </thead>\n",
       "  <tbody>\n",
       "    <tr>\n",
       "      <th>0</th>\n",
       "      <td>1997-05-15 04:00:00+00:00</td>\n",
       "      <td>0.121875</td>\n",
       "      <td>0.125000</td>\n",
       "      <td>0.096354</td>\n",
       "      <td>0.097917</td>\n",
       "      <td>1443120000</td>\n",
       "      <td>0.0</td>\n",
       "    </tr>\n",
       "    <tr>\n",
       "      <th>1</th>\n",
       "      <td>1997-05-16 04:00:00+00:00</td>\n",
       "      <td>0.098438</td>\n",
       "      <td>0.098958</td>\n",
       "      <td>0.085417</td>\n",
       "      <td>0.086458</td>\n",
       "      <td>294000000</td>\n",
       "      <td>0.0</td>\n",
       "    </tr>\n",
       "    <tr>\n",
       "      <th>2</th>\n",
       "      <td>1997-05-19 04:00:00+00:00</td>\n",
       "      <td>0.088021</td>\n",
       "      <td>0.088542</td>\n",
       "      <td>0.081250</td>\n",
       "      <td>0.085417</td>\n",
       "      <td>122136000</td>\n",
       "      <td>0.0</td>\n",
       "    </tr>\n",
       "    <tr>\n",
       "      <th>3</th>\n",
       "      <td>1997-05-20 04:00:00+00:00</td>\n",
       "      <td>0.086458</td>\n",
       "      <td>0.087500</td>\n",
       "      <td>0.081771</td>\n",
       "      <td>0.081771</td>\n",
       "      <td>109344000</td>\n",
       "      <td>0.0</td>\n",
       "    </tr>\n",
       "    <tr>\n",
       "      <th>4</th>\n",
       "      <td>1997-05-21 04:00:00+00:00</td>\n",
       "      <td>0.081771</td>\n",
       "      <td>0.082292</td>\n",
       "      <td>0.068750</td>\n",
       "      <td>0.071354</td>\n",
       "      <td>377064000</td>\n",
       "      <td>0.0</td>\n",
       "    </tr>\n",
       "  </tbody>\n",
       "</table>\n",
       "</div>"
      ],
      "text/plain": [
       "                        Date      Open      High       Low     Close  \\\n",
       "0  1997-05-15 04:00:00+00:00  0.121875  0.125000  0.096354  0.097917   \n",
       "1  1997-05-16 04:00:00+00:00  0.098438  0.098958  0.085417  0.086458   \n",
       "2  1997-05-19 04:00:00+00:00  0.088021  0.088542  0.081250  0.085417   \n",
       "3  1997-05-20 04:00:00+00:00  0.086458  0.087500  0.081771  0.081771   \n",
       "4  1997-05-21 04:00:00+00:00  0.081771  0.082292  0.068750  0.071354   \n",
       "\n",
       "       Volume  Stock Splits  \n",
       "0  1443120000           0.0  \n",
       "1   294000000           0.0  \n",
       "2   122136000           0.0  \n",
       "3   109344000           0.0  \n",
       "4   377064000           0.0  "
      ]
     },
     "execution_count": 46,
     "metadata": {},
     "output_type": "execute_result"
    }
   ],
   "source": [
    "# Example for Google Drive path\n",
    "file_path = '/home/yogesh/genai/stock price prediction/notebook/cleaned_stock_data.csv'\n",
    "\n",
    "# Load CSV\n",
    "df = pd.read_csv(file_path)\n",
    "\n",
    "# Show first 5 rows\n",
    "df.head()\n"
   ]
  },
  {
   "cell_type": "code",
   "execution_count": 47,
   "id": "346ea57b",
   "metadata": {},
   "outputs": [],
   "source": [
    "df = df.drop(columns=[ 'Stock Splits'])\n"
   ]
  },
  {
   "cell_type": "code",
   "execution_count": 48,
   "id": "34860fa8",
   "metadata": {},
   "outputs": [],
   "source": [
    "# check for NaN values\n",
    "if data.isnull().values.any():\n",
    "    print(\"Data contains NaN values. Dropping rows with NaN values.\")\n",
    "    # Drop rows with NaN values\n",
    "    data = data.dropna()\n",
    "# check for duplicate rows\n",
    "if data.duplicated().any():\n",
    "    print(\"Data contains duplicate rows. Dropping duplicate rows.\")\n",
    "    # Drop duplicate rows\n",
    "    data = data.drop_duplicates()\n",
    "\n"
   ]
  },
  {
   "cell_type": "code",
   "execution_count": 49,
   "id": "56bbefd4",
   "metadata": {},
   "outputs": [],
   "source": [
    "from sklearn.preprocessing import MinMaxScaler"
   ]
  },
  {
   "cell_type": "code",
   "execution_count": 50,
   "id": "30eb4992",
   "metadata": {},
   "outputs": [],
   "source": [
    "# 1. Feature Engineering on Date\n",
    "# ===============================\n",
    "# Convert 'Date' column to datetime\n",
    "df['year'] = pd.to_datetime(df['Date']).dt.year\n",
    "df['Date'] = pd.to_datetime(df['Date'])\n",
    "df['Month'] = df['Date'].dt.month\n",
    "df['Day'] = df['Date'].dt.day\n"
   ]
  },
  {
   "cell_type": "code",
   "execution_count": 51,
   "id": "30495b99",
   "metadata": {},
   "outputs": [
    {
     "data": {
      "application/vnd.microsoft.datawrangler.viewer.v0+json": {
       "columns": [
        {
         "name": "index",
         "rawType": "int64",
         "type": "integer"
        },
        {
         "name": "Date",
         "rawType": "datetime64[ns, UTC]",
         "type": "unknown"
        },
        {
         "name": "Open",
         "rawType": "float64",
         "type": "float"
        },
        {
         "name": "High",
         "rawType": "float64",
         "type": "float"
        },
        {
         "name": "Low",
         "rawType": "float64",
         "type": "float"
        },
        {
         "name": "Close",
         "rawType": "float64",
         "type": "float"
        },
        {
         "name": "Volume",
         "rawType": "int64",
         "type": "integer"
        },
        {
         "name": "year",
         "rawType": "int32",
         "type": "integer"
        },
        {
         "name": "Month",
         "rawType": "int32",
         "type": "integer"
        },
        {
         "name": "Day",
         "rawType": "int32",
         "type": "integer"
        }
       ],
       "ref": "60ac2959-4b50-41aa-8fed-6d716474760c",
       "rows": [
        [
         "0",
         "1997-05-15 04:00:00+00:00",
         "0.1218750029802322",
         "0.125",
         "0.0963540002703666",
         "0.0979169979691505",
         "1443120000",
         "1997",
         "5",
         "15"
        ],
        [
         "1",
         "1997-05-16 04:00:00+00:00",
         "0.0984380021691322",
         "0.0989580005407333",
         "0.0854170024394989",
         "0.0864579975605011",
         "294000000",
         "1997",
         "5",
         "16"
        ],
        [
         "2",
         "1997-05-19 04:00:00+00:00",
         "0.0880210027098655",
         "0.0885419994592666",
         "0.0812499970197677",
         "0.0854170024394989",
         "122136000",
         "1997",
         "5",
         "19"
        ],
        [
         "3",
         "1997-05-20 04:00:00+00:00",
         "0.0864579975605011",
         "0.0874999985098838",
         "0.0817710012197494",
         "0.0817710012197494",
         "109344000",
         "1997",
         "5",
         "20"
        ],
        [
         "4",
         "1997-05-21 04:00:00+00:00",
         "0.0817710012197494",
         "0.0822919979691505",
         "0.0687500014901161",
         "0.0713540017604827",
         "377064000",
         "1997",
         "5",
         "21"
        ]
       ],
       "shape": {
        "columns": 9,
        "rows": 5
       }
      },
      "text/html": [
       "<div>\n",
       "<style scoped>\n",
       "    .dataframe tbody tr th:only-of-type {\n",
       "        vertical-align: middle;\n",
       "    }\n",
       "\n",
       "    .dataframe tbody tr th {\n",
       "        vertical-align: top;\n",
       "    }\n",
       "\n",
       "    .dataframe thead th {\n",
       "        text-align: right;\n",
       "    }\n",
       "</style>\n",
       "<table border=\"1\" class=\"dataframe\">\n",
       "  <thead>\n",
       "    <tr style=\"text-align: right;\">\n",
       "      <th></th>\n",
       "      <th>Date</th>\n",
       "      <th>Open</th>\n",
       "      <th>High</th>\n",
       "      <th>Low</th>\n",
       "      <th>Close</th>\n",
       "      <th>Volume</th>\n",
       "      <th>year</th>\n",
       "      <th>Month</th>\n",
       "      <th>Day</th>\n",
       "    </tr>\n",
       "  </thead>\n",
       "  <tbody>\n",
       "    <tr>\n",
       "      <th>0</th>\n",
       "      <td>1997-05-15 04:00:00+00:00</td>\n",
       "      <td>0.121875</td>\n",
       "      <td>0.125000</td>\n",
       "      <td>0.096354</td>\n",
       "      <td>0.097917</td>\n",
       "      <td>1443120000</td>\n",
       "      <td>1997</td>\n",
       "      <td>5</td>\n",
       "      <td>15</td>\n",
       "    </tr>\n",
       "    <tr>\n",
       "      <th>1</th>\n",
       "      <td>1997-05-16 04:00:00+00:00</td>\n",
       "      <td>0.098438</td>\n",
       "      <td>0.098958</td>\n",
       "      <td>0.085417</td>\n",
       "      <td>0.086458</td>\n",
       "      <td>294000000</td>\n",
       "      <td>1997</td>\n",
       "      <td>5</td>\n",
       "      <td>16</td>\n",
       "    </tr>\n",
       "    <tr>\n",
       "      <th>2</th>\n",
       "      <td>1997-05-19 04:00:00+00:00</td>\n",
       "      <td>0.088021</td>\n",
       "      <td>0.088542</td>\n",
       "      <td>0.081250</td>\n",
       "      <td>0.085417</td>\n",
       "      <td>122136000</td>\n",
       "      <td>1997</td>\n",
       "      <td>5</td>\n",
       "      <td>19</td>\n",
       "    </tr>\n",
       "    <tr>\n",
       "      <th>3</th>\n",
       "      <td>1997-05-20 04:00:00+00:00</td>\n",
       "      <td>0.086458</td>\n",
       "      <td>0.087500</td>\n",
       "      <td>0.081771</td>\n",
       "      <td>0.081771</td>\n",
       "      <td>109344000</td>\n",
       "      <td>1997</td>\n",
       "      <td>5</td>\n",
       "      <td>20</td>\n",
       "    </tr>\n",
       "    <tr>\n",
       "      <th>4</th>\n",
       "      <td>1997-05-21 04:00:00+00:00</td>\n",
       "      <td>0.081771</td>\n",
       "      <td>0.082292</td>\n",
       "      <td>0.068750</td>\n",
       "      <td>0.071354</td>\n",
       "      <td>377064000</td>\n",
       "      <td>1997</td>\n",
       "      <td>5</td>\n",
       "      <td>21</td>\n",
       "    </tr>\n",
       "  </tbody>\n",
       "</table>\n",
       "</div>"
      ],
      "text/plain": [
       "                       Date      Open      High       Low     Close  \\\n",
       "0 1997-05-15 04:00:00+00:00  0.121875  0.125000  0.096354  0.097917   \n",
       "1 1997-05-16 04:00:00+00:00  0.098438  0.098958  0.085417  0.086458   \n",
       "2 1997-05-19 04:00:00+00:00  0.088021  0.088542  0.081250  0.085417   \n",
       "3 1997-05-20 04:00:00+00:00  0.086458  0.087500  0.081771  0.081771   \n",
       "4 1997-05-21 04:00:00+00:00  0.081771  0.082292  0.068750  0.071354   \n",
       "\n",
       "       Volume  year  Month  Day  \n",
       "0  1443120000  1997      5   15  \n",
       "1   294000000  1997      5   16  \n",
       "2   122136000  1997      5   19  \n",
       "3   109344000  1997      5   20  \n",
       "4   377064000  1997      5   21  "
      ]
     },
     "execution_count": 51,
     "metadata": {},
     "output_type": "execute_result"
    }
   ],
   "source": [
    "df.head()"
   ]
  },
  {
   "cell_type": "code",
   "execution_count": 52,
   "id": "d788be36",
   "metadata": {},
   "outputs": [],
   "source": [
    "df = df.dropna().reset_index(drop=True)"
   ]
  },
  {
   "cell_type": "code",
   "execution_count": 53,
   "id": "fed3b1e7",
   "metadata": {},
   "outputs": [],
   "source": [
    "df = df.drop(columns=['Date'])"
   ]
  },
  {
   "cell_type": "code",
   "execution_count": 54,
   "id": "30fe80cd",
   "metadata": {},
   "outputs": [],
   "source": [
    "scaler = MinMaxScaler()\n",
    "scaled_data = scaler.fit_transform(df)"
   ]
  },
  {
   "cell_type": "code",
   "execution_count": 55,
   "id": "61b85eb0",
   "metadata": {},
   "outputs": [
    {
     "data": {
      "application/vnd.microsoft.datawrangler.viewer.v0+json": {
       "columns": [
        {
         "name": "index",
         "rawType": "int64",
         "type": "integer"
        },
        {
         "name": "Open",
         "rawType": "float64",
         "type": "float"
        },
        {
         "name": "High",
         "rawType": "float64",
         "type": "float"
        },
        {
         "name": "Low",
         "rawType": "float64",
         "type": "float"
        },
        {
         "name": "Close",
         "rawType": "float64",
         "type": "float"
        },
        {
         "name": "Volume",
         "rawType": "int64",
         "type": "integer"
        },
        {
         "name": "year",
         "rawType": "int32",
         "type": "integer"
        },
        {
         "name": "Month",
         "rawType": "int32",
         "type": "integer"
        },
        {
         "name": "Day",
         "rawType": "int32",
         "type": "integer"
        }
       ],
       "ref": "329c7616-1599-4b84-90df-cab553b0b7ac",
       "rows": [
        [
         "0",
         "0.1218750029802322",
         "0.125",
         "0.0963540002703666",
         "0.0979169979691505",
         "1443120000",
         "1997",
         "5",
         "15"
        ],
        [
         "1",
         "0.0984380021691322",
         "0.0989580005407333",
         "0.0854170024394989",
         "0.0864579975605011",
         "294000000",
         "1997",
         "5",
         "16"
        ],
        [
         "2",
         "0.0880210027098655",
         "0.0885419994592666",
         "0.0812499970197677",
         "0.0854170024394989",
         "122136000",
         "1997",
         "5",
         "19"
        ],
        [
         "3",
         "0.0864579975605011",
         "0.0874999985098838",
         "0.0817710012197494",
         "0.0817710012197494",
         "109344000",
         "1997",
         "5",
         "20"
        ],
        [
         "4",
         "0.0817710012197494",
         "0.0822919979691505",
         "0.0687500014901161",
         "0.0713540017604827",
         "377064000",
         "1997",
         "5",
         "21"
        ]
       ],
       "shape": {
        "columns": 8,
        "rows": 5
       }
      },
      "text/html": [
       "<div>\n",
       "<style scoped>\n",
       "    .dataframe tbody tr th:only-of-type {\n",
       "        vertical-align: middle;\n",
       "    }\n",
       "\n",
       "    .dataframe tbody tr th {\n",
       "        vertical-align: top;\n",
       "    }\n",
       "\n",
       "    .dataframe thead th {\n",
       "        text-align: right;\n",
       "    }\n",
       "</style>\n",
       "<table border=\"1\" class=\"dataframe\">\n",
       "  <thead>\n",
       "    <tr style=\"text-align: right;\">\n",
       "      <th></th>\n",
       "      <th>Open</th>\n",
       "      <th>High</th>\n",
       "      <th>Low</th>\n",
       "      <th>Close</th>\n",
       "      <th>Volume</th>\n",
       "      <th>year</th>\n",
       "      <th>Month</th>\n",
       "      <th>Day</th>\n",
       "    </tr>\n",
       "  </thead>\n",
       "  <tbody>\n",
       "    <tr>\n",
       "      <th>0</th>\n",
       "      <td>0.121875</td>\n",
       "      <td>0.125000</td>\n",
       "      <td>0.096354</td>\n",
       "      <td>0.097917</td>\n",
       "      <td>1443120000</td>\n",
       "      <td>1997</td>\n",
       "      <td>5</td>\n",
       "      <td>15</td>\n",
       "    </tr>\n",
       "    <tr>\n",
       "      <th>1</th>\n",
       "      <td>0.098438</td>\n",
       "      <td>0.098958</td>\n",
       "      <td>0.085417</td>\n",
       "      <td>0.086458</td>\n",
       "      <td>294000000</td>\n",
       "      <td>1997</td>\n",
       "      <td>5</td>\n",
       "      <td>16</td>\n",
       "    </tr>\n",
       "    <tr>\n",
       "      <th>2</th>\n",
       "      <td>0.088021</td>\n",
       "      <td>0.088542</td>\n",
       "      <td>0.081250</td>\n",
       "      <td>0.085417</td>\n",
       "      <td>122136000</td>\n",
       "      <td>1997</td>\n",
       "      <td>5</td>\n",
       "      <td>19</td>\n",
       "    </tr>\n",
       "    <tr>\n",
       "      <th>3</th>\n",
       "      <td>0.086458</td>\n",
       "      <td>0.087500</td>\n",
       "      <td>0.081771</td>\n",
       "      <td>0.081771</td>\n",
       "      <td>109344000</td>\n",
       "      <td>1997</td>\n",
       "      <td>5</td>\n",
       "      <td>20</td>\n",
       "    </tr>\n",
       "    <tr>\n",
       "      <th>4</th>\n",
       "      <td>0.081771</td>\n",
       "      <td>0.082292</td>\n",
       "      <td>0.068750</td>\n",
       "      <td>0.071354</td>\n",
       "      <td>377064000</td>\n",
       "      <td>1997</td>\n",
       "      <td>5</td>\n",
       "      <td>21</td>\n",
       "    </tr>\n",
       "  </tbody>\n",
       "</table>\n",
       "</div>"
      ],
      "text/plain": [
       "       Open      High       Low     Close      Volume  year  Month  Day\n",
       "0  0.121875  0.125000  0.096354  0.097917  1443120000  1997      5   15\n",
       "1  0.098438  0.098958  0.085417  0.086458   294000000  1997      5   16\n",
       "2  0.088021  0.088542  0.081250  0.085417   122136000  1997      5   19\n",
       "3  0.086458  0.087500  0.081771  0.081771   109344000  1997      5   20\n",
       "4  0.081771  0.082292  0.068750  0.071354   377064000  1997      5   21"
      ]
     },
     "execution_count": 55,
     "metadata": {},
     "output_type": "execute_result"
    }
   ],
   "source": [
    "df.head()"
   ]
  },
  {
   "cell_type": "code",
   "execution_count": null,
   "id": "496df93b",
   "metadata": {},
   "outputs": [],
   "source": []
  },
  {
   "cell_type": "code",
   "execution_count": 62,
   "id": "ba353713",
   "metadata": {},
   "outputs": [],
   "source": [
    "df_final = df[['Open', 'High', 'Low', 'Close', 'Volume', 'year', 'Month', 'Day']]\n",
    "\n",
    "# Optionally, add new features if beneficial\n",
    "df_final['Price_Range'] = df_final['High'] - df_final['Low']\n",
    "df_final['Average_Price'] = (df_final['High'] + df_final['Low']) / 2\n",
    "\n",
    "# Target column for prediction\n",
    "# If you're predicting 'Close', then define:\n",
    "target_col = 'Close'\n",
    "\n",
    "\n"
   ]
  },
  {
   "cell_type": "code",
   "execution_count": 64,
   "id": "935fc132",
   "metadata": {},
   "outputs": [],
   "source": [
    "# save the preprocessed data to a new CSV file\n",
    "output_file_path = '/home/yogesh/genai/stock price prediction/notebook/preprocessed_stock_data.csv'\n",
    "df_final.to_csv(output_file_path, index=False)"
   ]
  },
  {
   "cell_type": "code",
   "execution_count": null,
   "id": "4eec17eb",
   "metadata": {},
   "outputs": [],
   "source": []
  }
 ],
 "metadata": {
  "kernelspec": {
   "display_name": "ml_env",
   "language": "python",
   "name": "python3"
  },
  "language_info": {
   "codemirror_mode": {
    "name": "ipython",
    "version": 3
   },
   "file_extension": ".py",
   "mimetype": "text/x-python",
   "name": "python",
   "nbconvert_exporter": "python",
   "pygments_lexer": "ipython3",
   "version": "3.12.3"
  }
 },
 "nbformat": 4,
 "nbformat_minor": 5
}
